{
 "cells": [
  {
   "cell_type": "code",
   "execution_count": 1,
   "metadata": {},
   "outputs": [],
   "source": [
    "import numpy as np\n",
    "import pandas as pd\n",
    "import copy\n",
    "import matplotlib as mpl\n",
    "from matplotlib import pyplot as plt\n",
    "import functions as fn\n",
    "import box\n",
    "import halo\n",
    "import my_rc_params"
   ]
  },
  {
   "cell_type": "code",
   "execution_count": 2,
   "metadata": {},
   "outputs": [],
   "source": [
    "z = 0\n",
    "x_bins = np.logspace(-2, 0, 21)\n",
    "m_bins = np.logspace(10.5, 14, 11)\n",
    "k = np.logspace(-1, 2, 30)\n",
    "bin_no = 7\n",
    "model = 'ModM2E-4P5'"
   ]
  },
  {
   "cell_type": "code",
   "execution_count": 3,
   "metadata": {},
   "outputs": [],
   "source": [
    "x = np.sqrt(x_bins[:-1]*x_bins[1:])\n",
    "m = np.sqrt(m_bins[:-1]*m_bins[1:])\n",
    "log_m = np.log10(m)"
   ]
  },
  {
   "cell_type": "code",
   "execution_count": 4,
   "metadata": {},
   "outputs": [],
   "source": [
    "box_f = box.Box(fn.BOX_PATH, fn.SHOT[z])"
   ]
  },
  {
   "cell_type": "code",
   "execution_count": 5,
   "metadata": {},
   "outputs": [
    {
     "name": "stdout",
     "output_type": "stream",
     "text": [
      "Read in 5908 halos\n"
     ]
    }
   ],
   "source": [
    "df = pd.read_csv(fn.HERE_PATH/'Density_Profiles'/f'box_z{z}.csv')\n",
    "halo_mass = np.array(df.iloc[:,1])\n",
    "print(f'Read in {halo_mass.shape[0]} halos')\n",
    "halo_density = np.array(df.iloc[:, 2:-1]) * 1e9\n",
    "halo_r200c = np.array(df.iloc[:,-1]) * 1e-3\n",
    "pos = np.array([0,0,0])\n",
    "halos = [halo.Halo(pos, r200c) for r200c in halo_r200c]\n",
    "for i, halo_f in enumerate(halos):\n",
    "    halo_f.mass = halo_mass[i]\n",
    "    halo_f.density = halo_density[i,:]"
   ]
  },
  {
   "cell_type": "code",
   "execution_count": 6,
   "metadata": {},
   "outputs": [
    {
     "name": "stdout",
     "output_type": "stream",
     "text": [
      "2571.0 in 10^10.675\n",
      "1260.0 in 10^11.025\n",
      "632.0 in 10^11.375\n",
      "357.0 in 10^11.725000000000001\n",
      "170.0 in 10^12.075000000000001\n",
      "74.0 in 10^12.425\n",
      "40.0 in 10^12.775\n",
      "17.0 in 10^13.125\n",
      "6.0 in 10^13.475000000000001\n",
      "3.0 in 10^13.825000000000001\n"
     ]
    }
   ],
   "source": [
    "avg_halos, no_halos = fn.get_mass_avg_density(halos, m_bins)\n",
    "for i, n in enumerate(no_halos):\n",
    "    print(f'{n} in 10^{log_m[i]}')"
   ]
  },
  {
   "cell_type": "code",
   "execution_count": 7,
   "metadata": {},
   "outputs": [],
   "source": [
    "df = pd.read_csv(fn.HERE_PATH/'Power_Spectra'/f'box_z{z}.csv')\n",
    "p_1h = np.array(df.iloc[:,1])"
   ]
  },
  {
   "cell_type": "code",
   "execution_count": null,
   "metadata": {},
   "outputs": [
    {
     "name": "stdout",
     "output_type": "stream",
     "text": [
      "0\n"
     ]
    },
    {
     "name": "stderr",
     "output_type": "stream",
     "text": [
      "/data/ERCblackholes4/eac83/FABLE_S8/functions.py:53: VisibleDeprecationWarning: Creating an ndarray from ragged nested sequences (which is a list-or-tuple of lists-or-tuples-or ndarrays with different lengths or shapes) is deprecated. If you meant to do this, you must specify 'dtype=object' when creating the ndarray.\n",
      "  hist = np.array(np.histogram(mass, bins=m_bins))\n"
     ]
    },
    {
     "name": "stdout",
     "output_type": "stream",
     "text": [
      "1\n"
     ]
    }
   ],
   "source": [
    "pivot_halos = np.array([])\n",
    "pivot_p_1h = np.array([])\n",
    "for i, x_pivot in enumerate(x[1:-1]):\n",
    "    print(i)\n",
    "    pivot_halos = np.append(pivot_halos, copy.deepcopy(avg_halos[bin_no]))\n",
    "    pivot_halos[-1].pivot(x, x_pivot)\n",
    "    model_halos = avg_halos.copy()\n",
    "    model_halos[bin_no] = pivot_halos[-1]\n",
    "\n",
    "    with open(fn.HERE_PATH/'Pivot_Density_Profiles'/f'z{z}_b{bin_no}_x{round(np.log10(x_pivot),2)}.csv', 'w') as f:\n",
    "        f.write('rho\\n')\n",
    "        np.savetxt(f, pivot_halos[-1].density, delimiter=',')\n",
    "    [halo.get_u(x,k) for halo in model_halos]\n",
    "\n",
    "    pivot_p_1h = np.append(pivot_p_1h, fn.get_power(box_f, model_halos, k, m_bins, z, no_halos))\n",
    "\n",
    "pivot_p_1h = np.reshape(pivot_p_1h, [x[1:-1].shape[0], k.shape[0]])\n",
    "\n",
    "for i, x_pivot in enumerate(x[1:-1]):\n",
    "    with open(fn.HERE_PATH/'Pivot_Power_Spectra'/f'z{z}_b{bin_no}_x{round(np.log10(x_pivot),2)}.csv', 'w') as f:\n",
    "        f.write('P\\n')\n",
    "        np.savetxt(f, pivot_p_1h[i,:], delimiter=',')"
   ]
  },
  {
   "cell_type": "code",
   "execution_count": null,
   "metadata": {},
   "outputs": [],
   "source": [
    "fg, ax = plt.subplots(2, figsize=(7,7), gridspec_kw={'height_ratios':[2,3]})\n",
    "fg.subplots_adjust(hspace=0)\n",
    "df = pd.read_csv(fn.HERE_PATH/'Density_Profiles'/f'{model}_z{z}.csv')\n",
    "density_model = np.array(df.iloc[:,2:-1]).T\n",
    "df = pd.read_csv(fn.HERE_PATH/'Power_Spectra'/f'{model}_unnorm_z{z}.csv')\n",
    "P_1h_model = np.array(df.iloc[:,1])\n",
    "\n",
    "cmap = mpl.cm.get_cmap('viridis', x[-10:-1].shape[0])\n",
    "c=np.log10(x[-10:-1])\n",
    "print(c)\n",
    "cax = ax[0].scatter(c,c,c=c,cmap=cmap)\n",
    "ax[0].cla()\n",
    "\n",
    "ax[0].loglog()\n",
    "ax[1].loglog()\n",
    "ax[0].set_ylabel(r'$\\rho(r)[\\mathrm{M}_\\odot(h^{-1}\\mathrm{Mpc})^{-3}]$')\n",
    "ax[1].set_xlabel(r'$r/r_{200}$')\n",
    "ax[1].set_ylabel(r'$\\rho(r)/\\langle\\rho_\\mathrm{box}\\rangle(r)$')\n",
    "ax[0].set_title(f'$z = {z}$, $M_\\mathrm{{bin}} = 10^{{{round(log_m[bin_no],2)}}} h^{{-1}} \\mathrm{{M}}_\\odot$')\n",
    "ax[0].set_xticklabels([])\n",
    "fg2, ax2 = plt.subplots(2, figsize=(7,7), gridspec_kw={'height_ratios':[2,3]})\n",
    "fg2.subplots_adjust(hspace=0)\n",
    "ax2[0].loglog()\n",
    "ax2[1].semilogx()\n",
    "ax2[0].set_ylabel(r'$P_\\mathrm{1h}(k)[(h^{-1}\\mathrm{Mpc})^{3}]$')\n",
    "ax2[1].set_xlabel(r'$k \\, [h \\, \\mathrm{Mpc}^{-1}]$')\n",
    "ax2[1].set_ylabel(r'$P_\\mathrm{1h}(k)/P_\\mathrm{box,1h}(k)$')\n",
    "ax2[0].set_title(f'$z = {z}$, $M_\\mathrm{{bin}} = 10^{{{round(log_m[bin_no],2)}}} h^{{-1}} \\mathrm{{M}}_\\odot$')\n",
    "ax2[0].set_xticklabels([])\n",
    "ax2[0].tick_params(which='both', top=False)\n",
    "ax2[1].tick_params(which='both', top=False)\n",
    "\n",
    "f = lambda x: 2*np.pi/x\n",
    "\n",
    "Ax2 = ax2[0].secondary_xaxis('top', functions=(f,f))\n",
    "Ax2.set_xlabel(r'$r \\, [h^{-1}\\mathrm{Mpc}]$')\n",
    "\n",
    "Ax3 = ax2[1].secondary_xaxis('top', functions=(f,f))\n",
    "Ax3.set_xticklabels([])\n",
    "\n",
    "ax[0].plot(x, avg_halos[bin_no].density, 'k', lw=2, label='Box')\n",
    "ax[1].plot(x, avg_halos[bin_no].density/avg_halos[bin_no].density, 'k', lw=3)\n",
    "\n",
    "ax[0].plot(x, density_model, lw=3, c=fn.COLORS[model], label='Modified AGN')\n",
    "ax[1].plot(x, np.divide(density_model.T,(avg_halos[bin_no].density.T)).T, lw=3, c=fn.COLORS[model])\n",
    "\n",
    "ax2[0].plot(k, P_1h_model, lw=3, c=fn.COLORS[model], label='Modified AGN')\n",
    "ax2[1].plot(k, P_1h_model/p_1h, lw=3, c=fn.COLORS[model])\n",
    "\n",
    "ax2[0].plot(k, p_1h, 'k', lw=3, label='Box')\n",
    "ax2[1].plot(k, p_1h/p_1h, 'k', lw=3)\n",
    "\n",
    "for i, x_pivot in enumerate(x[10:-1]):\n",
    "    print(i)\n",
    "    df_dens = pd.read_csv(fn.HERE_PATH/'Pivot_Density_Profiles'/f'z{z}_b{bin_no}_x{round(np.log10(x_pivot),2)}.csv')\n",
    "    pivot_density = np.array(df_dens.iloc[:])[:,0]\n",
    "    df_p_1h = pd.read_csv(fn.HERE_PATH/'Pivot_Power_Spectra'/f'z{z}_b{bin_no}_x{round(np.log10(x_pivot),2)}.csv')\n",
    "    pivot_p_1h = np.array(df_p_1h.iloc[:])[:,0]\n",
    "    ax[0].plot(x, pivot_density, '--', linewidth=2, c=cmap(i))\n",
    "    ax[1].plot(x, (pivot_density/avg_halos[bin_no].density.T).T, '--', c=cmap(i), linewidth=2)\n",
    "    ax2[0].plot(k, pivot_p_1h, '--', linewidth=2, c=cmap(i))\n",
    "    ax2[1].plot(k, pivot_p_1h/p_1h, '--', c=cmap(i), linewidth=2)\n",
    "\n",
    "ax[0].legend()\n",
    "ax2[0].legend()\n",
    "\n",
    "cbar = fg.colorbar(cax, ticks=c[:], orientation='horizontal', label=r'$\\log(x_\\mathrm{pivot})$', pad=0.2)\n",
    "cbar2 = fg2.colorbar(cax, ticks=c[:], orientation='horizontal', label=r'$\\log(x_\\mathrm{pivot})$', pad=0.2)\n",
    "\n",
    "tick_locs = (c-0.07)*(c.shape[0]-1)/(c.shape[0])\n",
    "cbar.set_ticks(tick_locs)\n",
    "cbar2.set_ticks(tick_locs)\n",
    "cbar.set_ticklabels(np.round(c,2))\n",
    "cbar2.set_ticklabels(np.round(c,2))\n",
    "cbar.ax.tick_params(size=0)\n",
    "cbar2.ax.tick_params(size=0)\n",
    "\n",
    "fg.savefig(fn.HERE_PATH/'Pivot_Plots'/f'dens_z{z}_b{bin_no}.pdf', bbox_inches='tight')\n",
    "fg2.savefig(fn.HERE_PATH/'Pivot_Plots'/f'p1h_z{z}_b{bin_no}.pdf', bbox_inches='tight')"
   ]
  },
  {
   "cell_type": "code",
   "execution_count": null,
   "metadata": {},
   "outputs": [],
   "source": [
    "print(c)"
   ]
  },
  {
   "cell_type": "code",
   "execution_count": null,
   "metadata": {},
   "outputs": [],
   "source": []
  }
 ],
 "metadata": {
  "kernelspec": {
   "display_name": "Python 3 (ipykernel)",
   "language": "python",
   "name": "python3"
  },
  "language_info": {
   "codemirror_mode": {
    "name": "ipython",
    "version": 3
   },
   "file_extension": ".py",
   "mimetype": "text/x-python",
   "name": "python",
   "nbconvert_exporter": "python",
   "pygments_lexer": "ipython3",
   "version": "3.11.2"
  }
 },
 "nbformat": 4,
 "nbformat_minor": 2
}
