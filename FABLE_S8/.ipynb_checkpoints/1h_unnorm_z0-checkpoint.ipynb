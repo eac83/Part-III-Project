{
 "cells": [
  {
   "cell_type": "code",
   "execution_count": 1,
   "metadata": {},
   "outputs": [],
   "source": [
    "import numpy as np\n",
    "import pandas as pd\n",
    "from matplotlib import pyplot as plt\n",
    "import functions as fn\n",
    "import my_rc_params"
   ]
  },
  {
   "cell_type": "code",
   "execution_count": 2,
   "metadata": {},
   "outputs": [],
   "source": [
    "z = 0\n",
    "x_bins = np.logspace(-2, 0, 21)\n",
    "k = np.logspace(-1, 2, 30)\n",
    "is_normalize = False"
   ]
  },
  {
   "cell_type": "code",
   "execution_count": 3,
   "metadata": {},
   "outputs": [],
   "source": [
    "x = np.sqrt(x_bins[:-1]*x_bins[1:])\n",
    "power_path = fn.HERE_PATH/'Power_Spectra'\n",
    "fig_path = fn.HERE_PATH/'Power_Spectrum_Plots'"
   ]
  },
  {
   "cell_type": "code",
   "execution_count": 4,
   "metadata": {},
   "outputs": [],
   "source": [
    "df_lin = pd.read_csv(power_path/f'lin_z{z}.csv')\n",
    "k_lin = np.array(df_lin.iloc[:,0])\n",
    "P_lin = np.array(df_lin.iloc[:,1])\n",
    "\n",
    "df_non = pd.read_csv(power_path/f'nonlin_z{z}.csv')\n",
    "k_non = np.array(df_non.iloc[:,0])\n",
    "P_non = np.array(df_non.iloc[:,1])\n",
    "\n",
    "df_tot = pd.read_csv(power_path/f'box_total_z{z}.csv')\n",
    "k_tot = np.array(df_tot.iloc[:,0])\n",
    "P_tot = np.array(df_tot.iloc[:,1])\n",
    "\n",
    "df_box = pd.read_csv(power_path/f'box_z{z}.csv')\n",
    "P_box = np.array(df_box.iloc[:,1])\n",
    "\n",
    "df_zooms = pd.read_csv(power_path/f'zoom_z{z}.csv')\n",
    "P_zooms = np.array(df_zooms.iloc[:,1])"
   ]
  },
  {
   "cell_type": "code",
   "execution_count": 5,
   "metadata": {},
   "outputs": [
    {
     "ename": "AttributeError",
     "evalue": "'AxesSubplot' object has no attribute 'secondary_xaxis'",
     "output_type": "error",
     "traceback": [
      "\u001b[0;31m---------------------------------------------------------------------------\u001b[0m",
      "\u001b[0;31mAttributeError\u001b[0m                            Traceback (most recent call last)",
      "\u001b[0;32m<ipython-input-5-5a9f1df928b9>\u001b[0m in \u001b[0;36m<module>\u001b[0;34m()\u001b[0m\n\u001b[1;32m     16\u001b[0m \u001b[0mf\u001b[0m \u001b[0;34m=\u001b[0m \u001b[0;32mlambda\u001b[0m \u001b[0mx\u001b[0m\u001b[0;34m:\u001b[0m \u001b[0;36m2\u001b[0m\u001b[0;34m*\u001b[0m\u001b[0mnp\u001b[0m\u001b[0;34m.\u001b[0m\u001b[0mpi\u001b[0m\u001b[0;34m/\u001b[0m\u001b[0mx\u001b[0m\u001b[0;34m\u001b[0m\u001b[0;34m\u001b[0m\u001b[0m\n\u001b[1;32m     17\u001b[0m \u001b[0;34m\u001b[0m\u001b[0m\n\u001b[0;32m---> 18\u001b[0;31m \u001b[0max2\u001b[0m \u001b[0;34m=\u001b[0m \u001b[0max\u001b[0m\u001b[0;34m[\u001b[0m\u001b[0;36m0\u001b[0m\u001b[0;34m]\u001b[0m\u001b[0;34m.\u001b[0m\u001b[0msecondary_xaxis\u001b[0m\u001b[0;34m(\u001b[0m\u001b[0;34m'top'\u001b[0m\u001b[0;34m,\u001b[0m \u001b[0mfunctions\u001b[0m\u001b[0;34m=\u001b[0m\u001b[0;34m(\u001b[0m\u001b[0mf\u001b[0m\u001b[0;34m,\u001b[0m\u001b[0mf\u001b[0m\u001b[0;34m)\u001b[0m\u001b[0;34m)\u001b[0m\u001b[0;34m\u001b[0m\u001b[0;34m\u001b[0m\u001b[0m\n\u001b[0m\u001b[1;32m     19\u001b[0m \u001b[0max2\u001b[0m\u001b[0;34m.\u001b[0m\u001b[0mset_xlabel\u001b[0m\u001b[0;34m(\u001b[0m\u001b[0;34mr'$r\\:[h^{-1}\\mathrm{Mpc}]$'\u001b[0m\u001b[0;34m)\u001b[0m\u001b[0;34m\u001b[0m\u001b[0;34m\u001b[0m\u001b[0m\n\u001b[1;32m     20\u001b[0m \u001b[0;34m\u001b[0m\u001b[0m\n",
      "\u001b[0;31mAttributeError\u001b[0m: 'AxesSubplot' object has no attribute 'secondary_xaxis'"
     ]
    },
    {
     "data": {
      "image/png": "[encoded data removed]",
      "text/plain": [
       "<Figure size 432x288 with 2 Axes>"
      ]
     },
     "metadata": {
      "needs_background": "light"
     },
     "output_type": "display_data"
    }
   ],
   "source": [
    "fg, ax = plt.subplots(2, gridspec_kw={'height_ratios':[1,1]})\n",
    "fg.subplots_adjust(hspace=0)\n",
    "ax[0].loglog()\n",
    "ax[1].semilogx()\n",
    "ax[1].set_xlabel(r'$k\\: [h\\, \\mathrm{Mpc}^{-1}]$')\n",
    "ax[0].set_ylabel(r'$P(k) [(h^{-1}\\, \\mathrm{Mpc})^{3}]$')\n",
    "ax[1].set_ylabel(r'$P_\\mathrm{1h} / P_\\mathrm{ref, 1h}$', size=16)\n",
    "ax[0].set_xlim([1e0, k[-1]])\n",
    "ax[1].set_xlim([1e0, k[-1]])\n",
    "ax[0].set_ylim([1e-3, 1e2])\n",
    "ax[0].set_xticklabels([])\n",
    "ax[0].tick_params(which='both', top=False)\n",
    "ax[1].tick_params(which='both', top=False)\n",
    "\n",
    "\n",
    "f = lambda x: 2*np.pi/x\n",
    "\n",
    "ax2 = ax[0].secondary_xaxis('top', functions=(f,f))\n",
    "ax2.set_xlabel(r'$r\\:[h^{-1}\\mathrm{Mpc}]$')\n",
    "\n",
    "ax3 = ax[1].secondary_xaxis('top', functions=(f,f))\n",
    "ax3.set_xticklabels([])\n",
    "if is_normalize:\n",
    "    title = 'Normalized'\n",
    "else:\n",
    "    title = ''\n",
    "\n",
    "ax[0].set_title(f'$z = {z}$')\n",
    "\n",
    "lines1 = np.array([])\n",
    "lines2 = np.array([])\n",
    "\n",
    "lines1 = np.append(lines1, ax[0].plot(k_lin, P_lin, '--', c='k', label='Linear'))\n",
    "lines1 = np.append(lines1, ax[0].plot(k_non, P_non, ':', c='k', label='Non-linear'))\n",
    "lines1 = np.append(lines1, ax[0].plot(k_tot, P_tot, c='k', label='Total matter'))\n",
    "lines1 = np.append(lines1, ax[0].plot(k, P_box, '-.', lw=2, c='c', label='Box 1h', zorder=10))\n",
    "lines1 = np.append(lines1, ax[0].plot(k, P_zooms, '-.', lw=2, c='tab:pink', label='Zoom-ins 1h', zorder=10))\n",
    "\n",
    "if is_normalize:\n",
    "    file_name = 'norm'\n",
    "else:\n",
    "    file_name = 'unnorm'\n",
    "\n",
    "for model in fn.MODELS:\n",
    "    df_model = pd.read_csv(power_path/f'{model}_{file_name}_z{z}.csv')\n",
    "    P_mod = np.array(df_model.iloc[:,1])\n",
    "\n",
    "    if model == 'REF':\n",
    "        P_ref = P_mod\n",
    "        \n",
    "    ax[0].plot(k, P_mod, lw=3, c=fn.COLORS[model])\n",
    "    ax[1].plot(k, P_mod/P_ref, lw=3, c=fn.COLORS[model], label=fn.LABELS[model])\n",
    "    #ylim = ax[1].get_ylim()\n",
    "    \n",
    "#, zorder=10\n",
    "ylim = ax[1].get_ylim()\n",
    "\n",
    "for model in fn.MODELS:\n",
    "    df_mod = pd.read_csv(fn.HERE_PATH/'Density_Profiles'/f'{model}_z{z}.csv')\n",
    "    r_200 = np.array(df_mod.iloc[:,-1])\n",
    "\n",
    "    ax[1].vlines(2*np.pi/r_200, ylim[0], ylim[1], colors = fn.COLORS[model], linestyles='dashed')\n",
    "\n",
    "ax[1].set_ylim(ylim)\n",
    "ax[0].legend(bbox_to_anchor=(0.5, -1.75), loc='lower center', ncols=2)\n",
    "ax[1].legend(bbox_to_anchor=(0.5, -1.2), loc='lower center', title=fn.LEGEND_TITLE, ncols=3)   \n",
    "fg.show()\n",
    "fg.savefig(fig_path/f'1h_z{z}.pdf', bbox_inches='tight')"
   ]
  },
  {
   "cell_type": "code",
   "execution_count": null,
   "metadata": {},
   "outputs": [],
   "source": []
  },
  {
   "cell_type": "code",
   "execution_count": null,
   "metadata": {},
   "outputs": [],
   "source": []
  }
 ],
 "metadata": {
  "kernelspec": {
   "display_name": "Python [default]",
   "language": "python",
   "name": "python3"
  },
  "language_info": {
   "codemirror_mode": {
    "name": "ipython",
    "version": 3
   },
   "file_extension": ".py",
   "mimetype": "text/x-python",
   "name": "python",
   "nbconvert_exporter": "python",
   "pygments_lexer": "ipython3",
   "version": "3.6.7"
  }
 },
 "nbformat": 4,
 "nbformat_minor": 2
}
