{
 "cells": [
  {
   "cell_type": "code",
   "execution_count": 1,
   "metadata": {},
   "outputs": [],
   "source": [
    "import numpy as np\n",
    "import pandas as pd\n",
    "from matplotlib import pyplot as plt\n",
    "import functions as fn\n",
    "import Box\n",
    "import Halo\n",
    "import myRCParams"
   ]
  },
  {
   "cell_type": "code",
   "execution_count": 2,
   "metadata": {},
   "outputs": [],
   "source": [
    "z = 0\n",
    "xBins = np.logspace(-2, 0, 21)\n",
    "mBins = np.logspace(10.5, 14.0, 11)\n",
    "k = np.logspace(-1, 2, 30)"
   ]
  },
  {
   "cell_type": "code",
   "execution_count": 3,
   "metadata": {},
   "outputs": [],
   "source": [
    "x = np.sqrt(xBins[:-1]*xBins[1:])\n",
    "m = np.sqrt(mBins[:-1]*mBins[1:])\n",
    "logm = np.log10(m)"
   ]
  },
  {
   "cell_type": "code",
   "execution_count": 4,
   "metadata": {},
   "outputs": [],
   "source": [
    "box = Box.Box(fn.box_path, fn.shot[z])"
   ]
  },
  {
   "cell_type": "code",
   "execution_count": 7,
   "metadata": {},
   "outputs": [],
   "source": [
    "df = pd.read_csv(fn.here_path/'Density_Profiles'/f'box_{z}.csv')\n",
    "halo_mass = np.array(df.iloc[:,1])\n",
    "\n",
    "halo_density = np.array(df.iloc[:, 2:-1])\n",
    "halo_r200c = np.array(df.iloc[:,-1])\n",
    "pos = np.array([0,0,0])\n",
    "halos = [Halo.Halo(pos, r200c) for r200c in halo_r200c]\n",
    "for i, halo in enumerate(halos):\n",
    "    halo.mass = halo_mass[i]\n",
    "    halo.density = halo_density[i,:]"
   ]
  },
  {
   "cell_type": "code",
   "execution_count": 8,
   "metadata": {},
   "outputs": [
    {
     "name": "stdout",
     "output_type": "stream",
     "text": [
      "1488.0 in 10^10.674999999999999\n",
      "1260.0 in 10^11.024999999999999\n",
      "632.0 in 10^11.375\n",
      "357.0 in 10^11.725\n",
      "170.0 in 10^12.075000000000001\n",
      "74.0 in 10^12.425\n",
      "40.0 in 10^12.775\n",
      "17.0 in 10^13.125\n",
      "6.0 in 10^13.475000000000001\n",
      "2.0 in 10^13.825\n"
     ]
    }
   ],
   "source": [
    "avg_halos, no_halos = fn.get_mass_avg_density(halos, xBins, mBins)\n",
    "for i, n in enumerate(no_halos):\n",
    "    print(f'{n} in 10^{logm[i]}')"
   ]
  },
  {
   "cell_type": "code",
   "execution_count": null,
   "metadata": {},
   "outputs": [],
   "source": [
    "fg, ax = plt.subplots()\n",
    "ax.loglog()\n",
    "ax.set_xlabel(r'$r/r_{200}$')\n",
    "ax.set_ylabel(r'$\\langle\\rho_\\mathrm{total}\\rangle(r)[(\\mathrm{Mpc}/h)^3]$')\n",
    "for i, halo in enumerate(avg_halos):\n",
    "    ax.plot(x, halo.density, linewidth=3, label=round(logm[i],2))\n",
    "ax.legend(title='$\\log(M_\\mathrm{bin}/(\\mathrm{M}_\\odot/h))$')"
   ]
  },
  {
   "cell_type": "code",
   "execution_count": null,
   "metadata": {},
   "outputs": [],
   "source": [
    "[halo.get_u(x, k) for halo in avg_halos]"
   ]
  },
  {
   "cell_type": "code",
   "execution_count": null,
   "metadata": {},
   "outputs": [],
   "source": [
    "fg2, ax2 = plt.subplots()\n",
    "ax2.loglog()\n",
    "ax2.set_xlabel(r'$k[(\\mathrm{Mpc}/h)^{-1}]$')\n",
    "ax2.set_ylabel(r'$u(k|M)$')\n",
    "for i, halo in enumerate(avg_halos):\n",
    "    ax2.plot(k, halo.u, linewidth=3, label=round(logm[i],2))\n",
    "ax2.legend(title='$\\log(M_\\mathrm{bin}/(\\mathrm{M}_\\odot/h))$')"
   ]
  },
  {
   "cell_type": "code",
   "execution_count": null,
   "metadata": {},
   "outputs": [],
   "source": [
    "P_1h = fn.get_power(box, avg_halos, k, mBins, z, no_halos)"
   ]
  },
  {
   "cell_type": "code",
   "execution_count": null,
   "metadata": {},
   "outputs": [],
   "source": [
    "fg3, ax3 = plt.subplots()\n",
    "ax3.loglog()\n",
    "ax3.set_xlabel(r'$k[(\\mathrm{Mpc}/h)^{-1}]$')\n",
    "ax3.set_ylabel(r'$P_\\mathrm{1h}[(\\mathrm{Mpc}/h)^3]$')\n",
    "ax3.plot(k, P_1h, linewidth=3)"
   ]
  },
  {
   "cell_type": "code",
   "execution_count": null,
   "metadata": {},
   "outputs": [],
   "source": [
    "with open(fn.here_path/'Power_Spectra'/f'box_z{z}.csv', 'w') as f:\n",
    "    header = 'k, P_1h \\n'\n",
    "    f.write(header)\n",
    "    np.savetxt(f, np.c_[k, P_1h], delimiter=',')"
   ]
  },
  {
   "cell_type": "code",
   "execution_count": null,
   "metadata": {},
   "outputs": [],
   "source": []
  }
 ],
 "metadata": {
  "anaconda-cloud": {},
  "kernelspec": {
   "display_name": "python3 with environment",
   "language": "python",
   "name": "python3"
  },
  "language_info": {
   "codemirror_mode": {
    "name": "ipython",
    "version": 3
   },
   "file_extension": ".py",
   "mimetype": "text/x-python",
   "name": "python",
   "nbconvert_exporter": "python",
   "pygments_lexer": "ipython3",
   "version": "3.6.7"
  },
  "varInspector": {
   "cols": {
    "lenName": 16,
    "lenType": 16,
    "lenVar": 40
   },
   "kernels_config": {
    "python": {
     "delete_cmd_postfix": "",
     "delete_cmd_prefix": "del ",
     "library": "var_list.py",
     "varRefreshCmd": "print(var_dic_list())"
    },
    "r": {
     "delete_cmd_postfix": ") ",
     "delete_cmd_prefix": "rm(",
     "library": "var_list.r",
     "varRefreshCmd": "cat(var_dic_list()) "
    }
   },
   "types_to_exclude": [
    "module",
    "function",
    "builtin_function_or_method",
    "instance",
    "_Feature"
   ],
   "window_display": false
  }
 },
 "nbformat": 4,
 "nbformat_minor": 2
}
