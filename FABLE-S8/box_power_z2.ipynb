{
 "cells": [
  {
   "cell_type": "code",
   "execution_count": 1,
   "metadata": {},
   "outputs": [],
   "source": [
    "import numpy as np\n",
    "from matplotlib import pyplot as plt\n",
    "import h5py\n",
    "import MAS_library as MASL\n",
    "import Pk_library as PKL\n",
    "import mass_function_library as MFL\n",
    "import functions as fn\n",
    "import Box\n",
    "import myRCParams"
   ]
  },
  {
   "cell_type": "code",
   "execution_count": 2,
   "metadata": {},
   "outputs": [],
   "source": [
    "z = 2\n",
    "grid = 1024\n",
    "MAS = 'CIC'\n",
    "verbose = True"
   ]
  },
  {
   "cell_type": "code",
   "execution_count": 3,
   "metadata": {},
   "outputs": [],
   "source": [
    "box = Box.Box(fn.box_path, fn.shot[z])\n",
    "box.coords_gas = (box.coords_gas / 1e3).astype(np.float32)\n",
    "box.coords_DM = (box.coords_DM / 1e3).astype(np.float32)\n",
    "box.coords_stars = (box.coords_stars / 1e3).astype(np.float32)\n",
    "box.size = (box.size / 1e3).astype(np.float32)\n",
    "box.mass_gas = (box.mass_gas  * 1e10).astype(np.float32)\n",
    "box.mass_DM = (box.mass_DM * 1e10).astype(np.float32)\n",
    "box.mass_stars = (box.mass_stars * 1e10).astype(np.float32)\n",
    "\n",
    "BoxSize = box.size"
   ]
  },
  {
   "cell_type": "code",
   "execution_count": 4,
   "metadata": {},
   "outputs": [],
   "source": [
    "#create overdensity field\n",
    "def density(coords, mass):\n",
    "    global grid\n",
    "    global BoxSize     #Mpc/h\n",
    "    global MAS\n",
    "    global verbose\n",
    "\n",
    "    #define 3d density field\n",
    "    delta = np.zeros((grid, grid, grid), dtype=np.float32)\n",
    "\n",
    "    #construct 3d density field\n",
    "    MASL.MA(coords, delta, BoxSize, MAS, W=mass, verbose=verbose)\n",
    "\n",
    "    #turn into overdensity field\n",
    "    delta /= np.mean(delta, dtype=np.float64)\n",
    "    delta -= 1.0\n",
    "    \n",
    "    return delta"
   ]
  },
  {
   "cell_type": "code",
   "execution_count": 5,
   "metadata": {},
   "outputs": [],
   "source": [
    "#create power spectrum\n",
    "def power_spec(delta):\n",
    "    threads = 8\n",
    "    axis = 0\n",
    "    \n",
    "    global grid\n",
    "    global BoxSize     #Mpc/h\n",
    "    global MAS\n",
    "    global verbose\n",
    "    \n",
    "    #compute power spectrum\n",
    "    Pk = PKL.Pk(delta, BoxSize, axis, MAS, threads, verbose)\n",
    "\n",
    "    k = Pk.k3D             #(Mpc/h)^-1\n",
    "    Pk0 = Pk.Pk[:,0]       #(Mpc/h)^-3\n",
    "    Nmodes = Pk.Nmodes3D\n",
    "    return Pk0, k, Nmodes"
   ]
  },
  {
   "cell_type": "code",
   "execution_count": 6,
   "metadata": {},
   "outputs": [],
   "source": [
    "#total mass of each component\n",
    "m_DM = np.sum(box.mass_DM)\n",
    "m_gas = np.sum(box.mass_gas)\n",
    "m_stars = np.sum(box.mass_stars)\n",
    "m = m_DM + m_gas + m_stars\n",
    "#density parameter Omega of each component\n",
    "omega_DM = m_DM / m\n",
    "omega_gas = m_gas / m\n",
    "omega_stars = m_stars / m\n"
   ]
  },
  {
   "cell_type": "code",
   "execution_count": 7,
   "metadata": {},
   "outputs": [
    {
     "name": "stdout",
     "output_type": "stream",
     "text": [
      "\n",
      "Using CIC mass assignment scheme with weights\n",
      "Time taken = 7.918 seconds\n",
      "\n",
      "\n",
      "Using CIC mass assignment scheme with weights\n",
      "Time taken = 7.873 seconds\n",
      "\n",
      "\n",
      "Using CIC mass assignment scheme with weights\n",
      "Time taken = 0.901 seconds\n",
      "\n",
      "\n",
      "Computing power spectrum of the field...\n",
      "Time to complete loop = 44.84\n",
      "Time taken = 50.14 seconds\n",
      "\n",
      "Computing power spectrum of the field...\n",
      "Time to complete loop = 44.87\n",
      "Time taken = 50.10 seconds\n",
      "\n",
      "Computing power spectrum of the field...\n",
      "Time to complete loop = 45.01\n",
      "Time taken = 50.39 seconds\n",
      "\n",
      "Computing power spectrum of the field...\n",
      "Time to complete loop = 45.92\n",
      "Time taken = 51.17 seconds\n"
     ]
    }
   ],
   "source": [
    "#create power spectrum for each component\n",
    "delta_DM = density(box.coords_DM, box.mass_DM)\n",
    "delta_gas = density(box.coords_gas, box.mass_gas)\n",
    "delta_stars = density(box.coords_stars, box.mass_stars)\n",
    "delta_tot = (delta_DM*omega_DM + delta_gas*omega_gas + delta_stars*omega_stars)\n",
    "\n",
    "Pk0_DM, k_DM, N_modes_DM = power_spec(delta_DM)\n",
    "Pk0_gas, k_gas, N_modes_gas = power_spec(delta_gas)\n",
    "Pk0_stars, k_stars, N_modes_stars = power_spec(delta_stars)\n",
    "Pk0_tot, k_tot, N_modes_tot = power_spec(delta_tot)\n",
    "\n",
    "#combine into one array\n",
    "Pk0 = np.array([Pk0_DM, Pk0_gas, Pk0_stars])\n",
    "k = np.array([k_DM, k_gas, k_stars])\n",
    "N_modes = np.array([N_modes_DM, N_modes_gas, N_modes_stars])\n"
   ]
  },
  {
   "cell_type": "code",
   "execution_count": 8,
   "metadata": {},
   "outputs": [],
   "source": [
    "with open(fn.here_path/'Power_Spectra'/f'box_total_z{z}.csv', 'w') as f:\n",
    "    f.write('k, P(k)')\n",
    "    np.savetxt(f, np.c_[k_tot.T, Pk0_tot.T], delimiter=',')"
   ]
  },
  {
   "cell_type": "code",
   "execution_count": 9,
   "metadata": {},
   "outputs": [
    {
     "data": {
      "text/plain": [
       "[<matplotlib.lines.Line2D at 0x7fa2061f9ef0>]"
      ]
     },
     "execution_count": 9,
     "metadata": {},
     "output_type": "execute_result"
    },
    {
     "data": {
      "image/png": "[encoded data removed]",
      "text/plain": [
       "<Figure size 600x600 with 1 Axes>"
      ]
     },
     "metadata": {},
     "output_type": "display_data"
    }
   ],
   "source": [
    "plt.loglog(k_tot, Pk0_tot, lw=3)"
   ]
  },
  {
   "cell_type": "code",
   "execution_count": null,
   "metadata": {},
   "outputs": [],
   "source": []
  }
 ],
 "metadata": {
  "kernelspec": {
   "display_name": "base",
   "language": "python",
   "name": "python3"
  },
  "language_info": {
   "codemirror_mode": {
    "name": "ipython",
    "version": 3
   },
   "file_extension": ".py",
   "mimetype": "text/x-python",
   "name": "python",
   "nbconvert_exporter": "python",
   "pygments_lexer": "ipython3",
   "version": "3.6.15"
  },
  "orig_nbformat": 4
 },
 "nbformat": 4,
 "nbformat_minor": 2
}
